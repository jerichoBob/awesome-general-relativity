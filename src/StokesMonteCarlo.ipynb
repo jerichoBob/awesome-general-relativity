{
 "cells": [
  {
   "cell_type": "code",
   "execution_count": 1,
   "id": "e158c141",
   "metadata": {},
   "outputs": [],
   "source": [
    "# Author: Rhett Allain (https://www.youtube.com/watch?v=wgwLXr5ZX6g)\n",
    "#    adapted here by Bob Seaton (bobse)\n",
    "# Created: 2022.02.21\n",
    "# Description: Monte Carlo simulation of Stokes Theorem\n",
    "# ---------------------------------------------------------------------------------------------------------------------\n",
    "# GlowScript 3.0 VPython -- uncommented when you run on trinket.io (https://trinket.io/library/trinkets/e4d89b7b30) but not needed here\n"
   ]
  },
  {
   "cell_type": "code",
   "execution_count": 2,
   "id": "7e196758",
   "metadata": {
    "scrolled": false
   },
   "outputs": [
    {
     "data": {
      "text/html": [
       "<div id=\"glowscript\" class=\"glowscript\"></div>"
      ],
      "text/plain": [
       "<IPython.core.display.HTML object>"
      ]
     },
     "metadata": {},
     "output_type": "display_data"
    },
    {
     "data": {
      "application/javascript": [
       "if (typeof Jupyter !== \"undefined\") { window.__context = { glowscript_container: $(\"#glowscript\").removeAttr(\"id\")};}else{ element.textContent = ' ';}"
      ],
      "text/plain": [
       "<IPython.core.display.Javascript object>"
      ]
     },
     "metadata": {},
     "output_type": "display_data"
    }
   ],
   "source": [
    "from vpython import *"
   ]
  },
  {
   "cell_type": "code",
   "execution_count": 3,
   "id": "3759d303",
   "metadata": {},
   "outputs": [],
   "source": [
    "N = 5000\n",
    "R = 1\n",
    "dr = 0.001\n",
    "dA = .5*pi*R**2/N\n",
    "\n",
    "def F(rr):\n",
    "  return(vector(rr.y, -rr.x, rr.z))\n",
    "  \n",
    "def curlF(rr):\n",
    "  return(vector(0,0,-2))\n",
    "\n",
    "n=0\n",
    "phi=0"
   ]
  },
  {
   "cell_type": "code",
   "execution_count": 4,
   "id": "b6a3aa3d",
   "metadata": {},
   "outputs": [
    {
     "data": {
      "application/javascript": [
       "if (typeof Jupyter !== \"undefined\") {require.undef(\"nbextensions/vpython_libraries/glow.min\");}else{element.textContent = ' ';}"
      ],
      "text/plain": [
       "<IPython.core.display.Javascript object>"
      ]
     },
     "metadata": {},
     "output_type": "display_data"
    },
    {
     "data": {
      "application/javascript": [
       "if (typeof Jupyter !== \"undefined\") {require.undef(\"nbextensions/vpython_libraries/glowcomm\");}else{element.textContent = ' ';}"
      ],
      "text/plain": [
       "<IPython.core.display.Javascript object>"
      ]
     },
     "metadata": {},
     "output_type": "display_data"
    },
    {
     "data": {
      "application/javascript": [
       "if (typeof Jupyter !== \"undefined\") {require.undef(\"nbextensions/vpython_libraries/jquery-ui.custom.min\");}else{element.textContent = ' ';}"
      ],
      "text/plain": [
       "<IPython.core.display.Javascript object>"
      ]
     },
     "metadata": {},
     "output_type": "display_data"
    },
    {
     "data": {
      "application/javascript": [
       "if (typeof Jupyter !== \"undefined\") {require([\"nbextensions/vpython_libraries/glow.min\"], function(){console.log(\"GLOW LOADED\");});}else{element.textContent = ' ';}"
      ],
      "text/plain": [
       "<IPython.core.display.Javascript object>"
      ]
     },
     "metadata": {},
     "output_type": "display_data"
    },
    {
     "data": {
      "application/javascript": [
       "if (typeof Jupyter !== \"undefined\") {require([\"nbextensions/vpython_libraries/glowcomm\"], function(){console.log(\"GLOWCOMM LOADED\");});}else{element.textContent = ' ';}"
      ],
      "text/plain": [
       "<IPython.core.display.Javascript object>"
      ]
     },
     "metadata": {},
     "output_type": "display_data"
    },
    {
     "data": {
      "application/javascript": [
       "if (typeof Jupyter !== \"undefined\") {require([\"nbextensions/vpython_libraries/jquery-ui.custom.min\"], function(){console.log(\"JQUERY LOADED\");});}else{element.textContent = ' ';}"
      ],
      "text/plain": [
       "<IPython.core.display.Javascript object>"
      ]
     },
     "metadata": {},
     "output_type": "display_data"
    },
    {
     "name": "stdout",
     "output_type": "stream",
     "text": [
      "Flux =  -1.5809105819940952\n"
     ]
    }
   ],
   "source": [
    "while n < N:\n",
    "  rt = R*vector(random(), random(), random())\n",
    "  if (mag(rt) > R-dr and mag(rt)<R+dr):\n",
    "    cylinder(pos=rt, axis=dr*norm(rt), radius=sqrt(dA/pi))\n",
    "    dphi = dot( curlF(rt), norm(rt)*dA )\n",
    "    phi = phi + dphi\n",
    "    n = n + 1\n",
    "\n",
    "print(\"Flux = \", phi)"
   ]
  },
  {
   "cell_type": "code",
   "execution_count": 5,
   "id": "252b1983",
   "metadata": {},
   "outputs": [],
   "source": [
    "ball = sphere(pos=vector(R,0,0), radius=0.04, color=color.yellow, make_trail=True)"
   ]
  },
  {
   "cell_type": "code",
   "execution_count": 6,
   "id": "d9cfb42c",
   "metadata": {},
   "outputs": [],
   "source": [
    "# Calculate the Work\n",
    "# initialize some variables\n",
    "theta = 0\n",
    "Np = 100\n",
    "dtheta = .5 * pi/Np\n",
    "W = 0\n",
    "myrate = 10"
   ]
  },
  {
   "cell_type": "code",
   "execution_count": 7,
   "id": "c14b35bd",
   "metadata": {},
   "outputs": [
    {
     "name": "stdout",
     "output_type": "stream",
     "text": [
      "Work =  -1.5865042900628432\n"
     ]
    }
   ],
   "source": [
    "# along x-y plane (z=0)\n",
    "while theta <= .5 * pi:\n",
    "  rate(myrate) # <myrate> frames a sec\n",
    "  \n",
    "  ball.pos=vector(cos(theta), sin(theta), 0) * R\n",
    "  dr=vector(-sin(theta), cos(theta),0) * R * .5 * pi / Np\n",
    "  \n",
    "  dW = dot(F(ball.pos), dr)\n",
    "  W = W + dW\n",
    "  theta = theta + dtheta\n",
    "\n",
    "print (\"Work = \", W)"
   ]
  },
  {
   "cell_type": "code",
   "execution_count": 8,
   "id": "57cc2267",
   "metadata": {},
   "outputs": [
    {
     "name": "stdout",
     "output_type": "stream",
     "text": [
      "Work =  -1.086545414090981\n"
     ]
    }
   ],
   "source": [
    "# along y-z plane (x=0)\n",
    "theta = 0\n",
    "while theta <= .5 * pi:\n",
    "  rate(myrate) # <myrate> frames a sec\n",
    "  \n",
    "  ball.pos = vector(0, cos(theta), sin(theta)) * R\n",
    "  dr = vector(0, -sin(theta), cos(theta)) * R * .5 * pi / Np\n",
    "  \n",
    "  dW = dot(F(ball.pos), dr)\n",
    "  W = W + dW\n",
    "  theta = theta + dtheta\n",
    "\n",
    "print (\"Work = \", W)"
   ]
  },
  {
   "cell_type": "code",
   "execution_count": 9,
   "id": "2aa5ba87",
   "metadata": {},
   "outputs": [
    {
     "name": "stdout",
     "output_type": "stream",
     "text": [
      "Work =  -1.5865042900628432\n"
     ]
    }
   ],
   "source": [
    "# along x-z plane (y=0)\n",
    "theta = 0\n",
    "while theta <= .5 * pi:\n",
    "  rate(myrate) # <myrate> frames a sec\n",
    "  \n",
    "  ball.pos=vector(sin(theta), 0, cos(theta)) * R\n",
    "  dr = vector(cos(theta), 0, -sin(theta)) * R * .5 * pi / Np\n",
    "  \n",
    "  dW = dot(F(ball.pos), dr)\n",
    "  W = W + dW\n",
    "  theta = theta + dtheta\n",
    "  \n",
    "  \n",
    "print (\"Work = \", W)"
   ]
  },
  {
   "cell_type": "code",
   "execution_count": null,
   "id": "d1187c09",
   "metadata": {},
   "outputs": [],
   "source": []
  }
 ],
 "metadata": {
  "kernelspec": {
   "display_name": "pyconda",
   "language": "python",
   "name": "pyconda"
  },
  "language_info": {
   "codemirror_mode": {
    "name": "ipython",
    "version": 3
   },
   "file_extension": ".py",
   "mimetype": "text/x-python",
   "name": "python",
   "nbconvert_exporter": "python",
   "pygments_lexer": "ipython3",
   "version": "3.8.10"
  }
 },
 "nbformat": 4,
 "nbformat_minor": 5
}
